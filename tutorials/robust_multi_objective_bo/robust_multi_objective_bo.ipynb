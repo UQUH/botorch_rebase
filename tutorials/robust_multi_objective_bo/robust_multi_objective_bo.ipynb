{
  "cells": [
    {
      "cell_type": "markdown",
      "metadata": {
        "originalKey": "df56a923-da1d-402b-9201-20e8fac34baf",
        "showInput": false
      },
      "source": [
        "## Robust Multi-Objective Bayesian Optimization Under Input Noise\n",
        "\n",
        "In this tutorial, we illustrate how to perform robust multi-objective Bayesian optimization (BO) under input noise.\n",
        "\n",
        "This is a simple tutorial; for support for constraints, batch sizes greater than 1, and many alternative methods, please see https://github.com/facebookresearch/robust_mobo.\n",
        "\n",
        "We consider the problem of optimizing (maximizing) a vector-valued objective function $\\mathbf f(\\mathbf x)$ where at implementation time $\\mathbf f(\\mathbf x)$ is subject to input noise $\\mathbf{f}(\\mathbf{x} \\diamond \\mathbf{\\xi})$ where $\\mathbf{\\xi} \\sim P(\\mathbf \\xi | \\mathbf x)$ is the random input noise and $\\diamond$ denotes the perturbation function (e.g. addition, multiplication, or any arbitrary function).\n",
        "\n",
        "We consider the scenario where:\n",
        "1. We have access to a simulator during optimization such that $\\mathbf{f}$ can be queried at a given design $\\mathbf x$ without input noise.\n",
        "2. Input noise is only present at implementation time. After optimization, the design that is chosen according to the decision maker's preferences will be subject to input noise.\n",
        "3. The perturbation function is known.\n",
        "4. We can sample from the generative process $P(\\mathbf \\xi | \\mathbf x)$.\n",
        "\n",
        "Quantifying risk is important to understand how the final selected design will perform under input noise.\n",
        "\n",
        "To quantify risk in the multi-objective setting, the MVaR set is an appealing option. For a given design $\\mathbf x$, MVaR is theis the set of points such that for every $\\mathbf z$ in the MVaR set, $\\mathbf z$ is Pareto dominated by the objectives under input noise $\\mathbf f (\\mathbf x \\diamond \\mathbf \\xi)$ with probability $\\alpha$. In other words, if  $\\mathbf x$ is the chosen final design, the objectives will be better than $\\mathbf z$ with probability $\\alpha$ for all $\\mathbf z$ in the MVaR set.\n",
        "\n",
        "![MVaR](attachment:1d_toy_mvar_single_designs_combined.png \"MvaR\")\n",
        "\n",
        "However, during optimization we are interested in identifying the global MVaR set that is the optimal set of probabilistic lower bounds across all designs. The global MVaR set is the non-dominated set of points across the union of MVaR sets of all points in the design space. See [1] for a deeper discussion.\n",
        "\n",
        "In this tutorial, we will optimize the 2 1-dimensional functions shown above to identify an approximate global MVaR set. See [1] for a description of these functions.\n",
        "\n",
        "To do so, we will use Bayesian optimization with MARS (MVaR approximated via random scalarizations). MARS exploits the result in [1] that, under limited assumptions, there is a bijection between weights in the $M-1$-dimensional-simplex (where $M$ is the number of objectives) and points $\\mathbf z$ in the MVaR set based on the value-at-risk (VaR) of a Chebyshev scalarization. \n",
        "\n",
        "![bijection](attachment:bijection_plots.png \"bijection\")\n",
        "\n",
        "MARS leverages this result to efficiently identify the MVaR set using Bayesian optimization by, at each iteration, sampling a random Chebyshev scalarization and selecting the new design with maximum acquisition value with respect to the value-at-risk\n",
        "of the sampled scalarization.\n",
        "\n",
        "[1] [S. Daulton, S. Cakmak, M. Balandat, M. A.  Osborne, E. Zhou, and E. Bakshy. Robust Bayesian Optimziation Under Input Noise. ICML, 2022.](https://arxiv.org/abs/2202.07549)"
      ]
    },
    {
      "cell_type": "code",
      "execution_count": null,
      "metadata": {},
      "outputs": [],
      "source": [
        "# Install dependencies if we are running in colab\n",
        "import sys\n",
        "if 'google.colab' in sys.modules:\n",
        "    %pip install botorch"
      ]
    },
    {
      "cell_type": "code",
      "execution_count": 1,
      "metadata": {
        "collapsed": false,
        "customOutput": null,
        "executionStartTime": 1668650182436,
        "executionStopTime": 1668650182448,
        "originalKey": "beb6652b-6fbb-4475-9283-d11fa2812848",
        "requestMsgId": "12410103-c132-4be6-83c2-fd7781eeee45"
      },
      "outputs": [],
      "source": [
        "import torch\n",
        "import numpy as np\n",
        "import os\n",
        "\n",
        "tkwargs = {\n",
        "    \"dtype\": torch.double,\n",
        "    \"device\": torch.device(\"cuda:2\" if torch.cuda.is_available() else \"cpu\"),\n",
        "}\n",
        "seed = 0\n",
        "torch.manual_seed(seed)\n",
        "np.random.seed(seed)\n",
        "SMOKE_TEST = os.environ.get(\"SMOKE_TEST\")"
      ]
    },
    {
      "cell_type": "markdown",
      "metadata": {
        "originalKey": "628d0f9c-dde6-4e07-9394-abf074df9144",
        "showInput": false
      },
      "source": [
        "## Configure the problem and optimization"
      ]
    },
    {
      "cell_type": "code",
      "execution_count": 2,
      "metadata": {
        "collapsed": false,
        "customOutput": null,
        "executionStartTime": 1668650182776,
        "executionStopTime": 1668650186914,
        "originalKey": "5b2f0395-06e3-419b-ae7d-495ab050638b",
        "requestMsgId": "3c295fbe-79b6-4b6a-8339-a4ab7b49c5c0"
      },
      "outputs": [],
      "source": [
        "from botorch.test_functions.multi_objective import ToyRobust\n",
        "\n",
        "base_function = ToyRobust(negate=True).to(**tkwargs)  # define test function\n",
        "bounds = base_function.bounds\n",
        "n_w = (\n",
        "    2 if SMOKE_TEST else 32\n",
        ")  # number of MC samples for approximating input noise distribution\n",
        "alpha = 0.9  # probability level\n",
        "std_dev = 0.1  # zero-mean quasi-Normal input noise, with a standard deviation of 0.1\n",
        "search_space_range = bounds[1] - bounds[0]\n",
        "# scale the specified std_dev to a unit cube search space\n",
        "scaled_std_dev = (\n",
        "    torch.tensor(std_dev, dtype=bounds.dtype, device=bounds.device) / search_space_range\n",
        ")\n",
        "mc_samples = 2 if SMOKE_TEST else 256  # number of samples for MC acquisition functions\n",
        "hv_n_w = (\n",
        "    2 if SMOKE_TEST else 512\n",
        ")  # number of MC samples for approximating input noise distribution for omniscient evaluation\n",
        "mvar_ref_point = torch.tensor(\n",
        "    [-14.1951, -3.1887], **tkwargs\n",
        ")  # reference point for the MVaR frontier\n",
        "# options for acquisition optimization\n",
        "options = {\n",
        "    \"batch_limit\": 5,  # number of starting points to jointly optimize in L-BFGS-B\n",
        "    \"maxiter\": 2 if SMOKE_TEST else 200,  # maximum number of L-BFGS-B iterations\n",
        "}\n",
        "optimization_kwargs = {\n",
        "    \"num_restarts\": 2 if SMOKE_TEST else 20,  # number of random restarts for L-BFGS-B\n",
        "    \"raw_samples\": 10\n",
        "    if SMOKE_TEST\n",
        "    else 1024,  # number of random samples for initialization heuristic\n",
        "    \"options\": options,\n",
        "}\n",
        "iterations = 1 if SMOKE_TEST else 5  # number of BO iterations\n",
        "verbose = True\n",
        "n_initial_points = 4  # number of initial sobol points"
      ]
    },
    {
      "cell_type": "markdown",
      "metadata": {
        "originalKey": "79ac50d4-58c5-4fde-9c49-2c381ee8adad",
        "showInput": false
      },
      "source": [
        "## Create a function for evaluating the objectives.\n",
        "We work in a search space that is normalized to the unit cube and only unnormalize the search space to evaluate the objectives."
      ]
    },
    {
      "cell_type": "code",
      "execution_count": 3,
      "metadata": {
        "collapsed": false,
        "customOutput": null,
        "executionStartTime": 1668650187152,
        "executionStopTime": 1668650187160,
        "originalKey": "48f3a309-2347-4174-866a-ca1139208c8f",
        "requestMsgId": "26d5287b-2bdb-4a42-bd37-a6311a19f092"
      },
      "outputs": [],
      "source": [
        "from botorch.utils.transforms import unnormalize\n",
        "\n",
        "# define function for evaluation\n",
        "def eval_problem(X):\n",
        "    X = unnormalize(X, base_function.bounds)\n",
        "    return base_function(X)"
      ]
    },
    {
      "cell_type": "markdown",
      "metadata": {
        "originalKey": "dc795f3d-fea5-4641-b393-17de1d1cf40b",
        "showInput": false
      },
      "source": [
        "## Create a function for sampling initial quasi-random points from the unit cube"
      ]
    },
    {
      "cell_type": "code",
      "execution_count": 4,
      "metadata": {
        "collapsed": false,
        "customOutput": null,
        "executionStartTime": 1668650187395,
        "executionStopTime": 1668650187484,
        "originalKey": "aed74cd7-ad5c-477c-ba27-554447e732a2",
        "requestMsgId": "a8d7f75d-2c4d-46a1-b580-7d0040e7b82f"
      },
      "outputs": [],
      "source": [
        "from botorch.utils.sampling import draw_sobol_samples\n",
        "\n",
        "standard_bounds = torch.ones(2, base_function.dim, **tkwargs)\n",
        "standard_bounds[0] = 0\n",
        "\n",
        "\n",
        "def generate_initial_data(\n",
        "    n,\n",
        "    eval_problem,\n",
        "    bounds,\n",
        "    tkwargs,\n",
        "):\n",
        "    r\"\"\"\n",
        "    Generates the initial data for the experiments.\n",
        "    Args:\n",
        "        n: Number of training points.\n",
        "        eval_problem: The callable used to evaluate the objective function.\n",
        "        bounds: The bounds to generate the training points from. `2 x d`-dim tensor.\n",
        "        tkwargs: Arguments for tensors, dtype and device.\n",
        "    Returns:\n",
        "        The train_X and train_Y. `n x d` and `n x m`.\n",
        "    \"\"\"\n",
        "    train_x = draw_sobol_samples(bounds=bounds, n=n, q=1).squeeze(-2).to(**tkwargs)\n",
        "    train_obj = eval_problem(train_x)\n",
        "    return train_x, train_obj"
      ]
    },
    {
      "cell_type": "markdown",
      "metadata": {
        "originalKey": "54209f83-8c8a-4889-b045-426c6bd730af",
        "showInput": false
      },
      "source": [
        "## Create a utility module for evaluating the hypervolume of the MVaR frontier\n",
        "\n",
        "We can evaluate the quality of an MVaR frontier by measuring the hypervolume dominated by the MVaR frontier and bounded from below by a reference point."
      ]
    },
    {
      "cell_type": "code",
      "execution_count": 5,
      "metadata": {
        "collapsed": false,
        "customOutput": null,
        "executionStartTime": 1668650187740,
        "executionStopTime": 1668650187746,
        "originalKey": "40740209-b429-4e72-af5d-f458a68c3269",
        "requestMsgId": "4f2fc6b7-94d1-43a2-90c5-94460de5b955"
      },
      "outputs": [],
      "source": [
        "from botorch.acquisition.multi_objective.multi_output_risk_measures import MVaR\n",
        "from botorch.utils.multi_objective.box_decompositions.dominated import (\n",
        "    DominatedPartitioning,\n",
        ")\n",
        "from botorch.models.transforms.input import InputPerturbation\n",
        "\n",
        "\n",
        "class MVaRHV(torch.nn.Module):\n",
        "    r\"\"\"A helper class that calculates the HV of the MVaR set.\"\"\"\n",
        "\n",
        "    def __init__(\n",
        "        self,\n",
        "        alpha,\n",
        "        eval_problem,\n",
        "        ref_point,\n",
        "        n_w,\n",
        "        perturbation_set,\n",
        "    ):\n",
        "        super().__init__()\n",
        "        self.hv = DominatedPartitioning(ref_point=ref_point)\n",
        "        self.mvar = MVaR(n_w=n_w, alpha=alpha)\n",
        "        self.perturbation = InputPerturbation(\n",
        "            perturbation_set=perturbation_set,\n",
        "        ).eval()\n",
        "        self.eval_problem = eval_problem\n",
        "\n",
        "    def forward(self, new_X):\n",
        "        r\"\"\"Calculate the resulting HV by adding the MVaR corresponding to the new_X\n",
        "        to the Pareto set.\n",
        "        Args:\n",
        "            new_X: `q x dim`-dim tensor of candidate points.\n",
        "        Returns:\n",
        "            The cumulative MVaR HV of all points evaluated so far.\n",
        "        \"\"\"\n",
        "        # Get the corresponding MVaR set.\n",
        "        perturbed_X = self.perturbation(new_X)\n",
        "        perturbed_Y = self.eval_problem(perturbed_X)\n",
        "        new_mvar = self.mvar(perturbed_Y).view(-1, perturbed_Y.shape[-1])\n",
        "        # Update and return the new MVaR HV.\n",
        "        self.hv.update(new_mvar)\n",
        "        return self.hv.compute_hypervolume().item()"
      ]
    },
    {
      "cell_type": "markdown",
      "metadata": {
        "originalKey": "34a89cbe-d10d-4e9b-b21e-8f4ebe830baf",
        "showInput": false
      },
      "source": [
        "## Create a method for initializing the surrogate model"
      ]
    },
    {
      "cell_type": "code",
      "execution_count": 6,
      "metadata": {
        "collapsed": false,
        "customOutput": null,
        "executionStartTime": 1668650187968,
        "executionStopTime": 1668650187975,
        "originalKey": "c9c2c4a5-f72a-44ae-afb3-4907d1d1e6f4",
        "requestMsgId": "e7f5fd2b-1cb9-4b24-b99d-cc88643ab7ec"
      },
      "outputs": [],
      "source": [
        "from botorch.models.gp_regression import SingleTaskGP\n",
        "from botorch.models.model_list_gp_regression import ModelListGP\n",
        "from gpytorch.mlls import SumMarginalLogLikelihood\n",
        "from botorch.models.transforms.outcome import Standardize\n",
        "\n",
        "\n",
        "def initialize_model(train_x, train_y, perturbation_set):\n",
        "    r\"\"\"Constructs the model and its MLL.\n",
        "    Args:\n",
        "        train_x: An `n x d`-dim tensor of training inputs.\n",
        "        train_y: An `n x m`-dim tensor of training outcomes.\n",
        "        perturbation_set: A `n_w x d`-dim tensor of perturbations\n",
        "    Returns:\n",
        "        The MLL and the model. Note: the model is not trained!\n",
        "    \"\"\"\n",
        "    train_Yvar = torch.full_like(train_y, 1e-7) * train_y.std(dim=0).pow(2)\n",
        "    models = []\n",
        "    for i in range(train_y.shape[-1]):\n",
        "        models.append(\n",
        "            SingleTaskGP(\n",
        "                train_X=train_x,\n",
        "                train_Y=train_y[..., i : i + 1],\n",
        "                train_Yvar=train_Yvar[..., i : i + 1],\n",
        "                outcome_transform=Standardize(m=1),\n",
        "                input_transform=InputPerturbation(perturbation_set=perturbation_set),\n",
        "            )\n",
        "        )\n",
        "    model = ModelListGP(*models)\n",
        "    mll = SumMarginalLogLikelihood(model.likelihood, model)\n",
        "\n",
        "    return mll, model"
      ]
    },
    {
      "cell_type": "markdown",
      "metadata": {
        "originalKey": "5585c5c6-7652-44e2-b9d8-bb72505da7b8",
        "showInput": false
      },
      "source": [
        "## Create a method for initializing MARS-NEI\n",
        "\n",
        "We use the MARS approach with the NEI acquisition function as in [1]."
      ]
    },
    {
      "cell_type": "code",
      "execution_count": 7,
      "metadata": {
        "collapsed": false,
        "customOutput": null,
        "executionStartTime": 1668650188197,
        "executionStopTime": 1668650188204,
        "originalKey": "8d6469ba-43db-475b-ac2c-815ecadaeadc",
        "requestMsgId": "fca87ff5-d043-411d-a0ec-4c6bcd04d8bd"
      },
      "outputs": [],
      "source": [
        "from botorch.acquisition.multi_objective.multi_output_risk_measures import MARS\n",
        "from botorch.acquisition.monte_carlo import qNoisyExpectedImprovement\n",
        "from botorch.utils.sampling import sample_simplex\n",
        "\n",
        "\n",
        "def get_MARS_NEI(\n",
        "    model,\n",
        "    n_w,\n",
        "    X_baseline,\n",
        "    sampler,\n",
        "    mvar_ref_point,\n",
        "):\n",
        "    r\"\"\"Construct the NEI acquisition function with VaR of Chebyshev scalarizations.\n",
        "    Args:\n",
        "        model: A fitted multi-output GPyTorchModel.\n",
        "        n_w: the number of perturbation samples\n",
        "        X_baseline: An `r x d`-dim tensor of points already observed.\n",
        "        sampler: The sampler used to draw the base samples.\n",
        "        mvar_ref_point: The mvar reference point.\n",
        "    Returns:\n",
        "        The NEI acquisition function.\n",
        "    \"\"\"\n",
        "    # sample weights from the simplex\n",
        "    weights = sample_simplex(\n",
        "        d=mvar_ref_point.shape[0],\n",
        "        n=1,\n",
        "        dtype=X_baseline.dtype,\n",
        "        device=X_baseline.device,\n",
        "    ).squeeze(0)\n",
        "    # set up mars objective\n",
        "    mars = MARS(\n",
        "        alpha=alpha,\n",
        "        n_w=n_w,\n",
        "        chebyshev_weights=weights,\n",
        "        ref_point=mvar_ref_point,\n",
        "    )\n",
        "    # set normalization bounds for the scalarization\n",
        "    mars.set_baseline_Y(model=model, X_baseline=X_baseline)\n",
        "    # initial qNEI acquisition function with the MARS objective\n",
        "    acq_func = qNoisyExpectedImprovement(\n",
        "        model=model,\n",
        "        X_baseline=X_baseline,\n",
        "        objective=mars,\n",
        "        prune_baseline=True,\n",
        "        sampler=sampler,\n",
        "    )\n",
        "    return acq_func"
      ]
    },
    {
      "cell_type": "markdown",
      "metadata": {
        "originalKey": "b0cafbb9-9e05-4049-87bc-4324f0629bc7",
        "showInput": false
      },
      "source": [
        "## Set up the optimization"
      ]
    },
    {
      "cell_type": "code",
      "execution_count": 8,
      "metadata": {
        "collapsed": false,
        "customOutput": null,
        "executionStartTime": 1668650188436,
        "executionStopTime": 1668650188443,
        "originalKey": "fd893472-c1a0-441e-a8d1-e80f20400953",
        "requestMsgId": "37168aae-a90e-4205-a752-c240e86a122d"
      },
      "outputs": [],
      "source": [
        "# Get the initial data.\n",
        "X, Y = generate_initial_data(\n",
        "    n=n_initial_points,\n",
        "    eval_problem=eval_problem,\n",
        "    bounds=standard_bounds,\n",
        "    tkwargs=tkwargs,\n",
        ")"
      ]
    },
    {
      "cell_type": "code",
      "execution_count": 9,
      "metadata": {
        "collapsed": false,
        "customOutput": null,
        "executionStartTime": 1668650188661,
        "executionStopTime": 1668650188748,
        "originalKey": "60e71e0d-5faf-4196-9c5d-0b48492dc5e0",
        "requestMsgId": "b915d403-0139-463f-af8a-22ac984a344f"
      },
      "outputs": [],
      "source": [
        "from botorch.utils.sampling import draw_sobol_normal_samples\n",
        "\n",
        "# Ensure consistency of MVaRHV across seeds by using same perturbations.\n",
        "# This sets the random seed and generates the perturbations on CPU.\n",
        "# MVaR calculations are also moved to CPU.\n",
        "old_state = torch.random.get_rng_state()\n",
        "torch.manual_seed(0)\n",
        "perturbations = (\n",
        "    draw_sobol_normal_samples(d=base_function.dim, n=hv_n_w, **tkwargs) * scaled_std_dev\n",
        ")\n",
        "mvar_hv = MVaRHV(\n",
        "    alpha=alpha,\n",
        "    eval_problem=eval_problem,\n",
        "    ref_point=torch.tensor(mvar_ref_point, **tkwargs),\n",
        "    n_w=hv_n_w,\n",
        "    perturbation_set=perturbations,\n",
        ")\n",
        "torch.random.set_rng_state(old_state)"
      ]
    },
    {
      "cell_type": "code",
      "execution_count": 10,
      "metadata": {
        "collapsed": false,
        "customOutput": null,
        "executionStartTime": 1668650188994,
        "executionStopTime": 1668650189070,
        "originalKey": "d860f8f2-1a99-4107-b8fb-becd358541fc",
        "requestMsgId": "eb92bde8-ad9f-4514-9127-934e8754f056"
      },
      "outputs": [],
      "source": [
        "try:\n",
        "    all_mvar_hvs = torch.tensor([mvar_hv(X)], dtype=tkwargs[\"dtype\"])\n",
        "except RuntimeError:\n",
        "    # Try to feed them one by one. This helps with memory.\n",
        "    initial_mvar_hv = 0.0\n",
        "    for j in range(X.shape[0]):\n",
        "        initial_mvar_hv = mvar_hv(X[j : j + 1])\n",
        "    all_mvar_hvs = torch.tensor([initial_mvar_hv], dtype=tkwargs[\"dtype\"])"
      ]
    },
    {
      "cell_type": "markdown",
      "metadata": {
        "originalKey": "77044bd5-dd9a-466f-94d1-b05a06f0cf92",
        "showInput": false
      },
      "source": [
        "## Run BO with MARS"
      ]
    },
    {
      "cell_type": "code",
      "execution_count": 11,
      "metadata": {
        "collapsed": false,
        "customOutput": null,
        "executionStartTime": 1668650189383,
        "executionStopTime": 1668650246736,
        "originalKey": "d76adb33-3442-4a8f-9b48-0c80c09e2c51",
        "requestMsgId": "d83b7a34-7b1a-45c4-aa30-84ab5055342f"
      },
      "outputs": [
        {
          "name": "stdout",
          "output_type": "stream",
          "text": [
            "Starting iteration 0, time: 0.00027441978454589844, current MVaR HV: 42.430757642706055.\n"
          ]
        },
        {
          "name": "stderr",
          "output_type": "stream",
          "text": [
            "/data/sandcastle/boxes/fbsource/buck-out/v2/gen/fbcode/f3b9a99e517e0a13/bento/kernels/__bento_kernel_axoptics__/bento_kernel_axoptics#link-tree/gpytorch/likelihoods/noise_models.py:144: NumericalWarning:\n",
            "\n",
            "Very small noise values detected. This will likely lead to numerical instabilities. Rounding small noise values up to 1e-06.\n",
            "\n"
          ]
        },
        {
          "name": "stdout",
          "output_type": "stream",
          "text": [
            "Starting iteration 1, time: 9.476728200912476, current MVaR HV: 85.50895176532245.\n"
          ]
        },
        {
          "name": "stderr",
          "output_type": "stream",
          "text": [
            "/data/sandcastle/boxes/fbsource/buck-out/v2/gen/fbcode/f3b9a99e517e0a13/bento/kernels/__bento_kernel_axoptics__/bento_kernel_axoptics#link-tree/gpytorch/likelihoods/noise_models.py:144: NumericalWarning:\n",
            "\n",
            "Very small noise values detected. This will likely lead to numerical instabilities. Rounding small noise values up to 1e-06.\n",
            "\n"
          ]
        },
        {
          "name": "stderr",
          "output_type": "stream",
          "text": [
            "/data/sandcastle/boxes/fbsource/buck-out/v2/gen/fbcode/f3b9a99e517e0a13/bento/kernels/__bento_kernel_axoptics__/bento_kernel_axoptics#link-tree/botorch/optim/optimize.py:306: RuntimeWarning:\n",
            "\n",
            "Optimization failed in `gen_candidates_scipy` with the following warning(s):\n",
            "[NumericalWarning('A not p.d., added jitter of 1.0e-08 to the diagonal'), OptimizationWarning('Optimization failed within `scipy.optimize.minimize` with status 2.'), NumericalWarning('A not p.d., added jitter of 1.0e-08 to the diagonal'), NumericalWarning('A not p.d., added jitter of 1.0e-08 to the diagonal'), NumericalWarning('A not p.d., added jitter of 1.0e-08 to the diagonal')]\n",
            "Trying again with a new set of initial conditions.\n",
            "\n"
          ]
        },
        {
          "name": "stdout",
          "output_type": "stream",
          "text": [
            "Starting iteration 2, time: 24.17291235923767, current MVaR HV: 87.13964153247537.\n"
          ]
        },
        {
          "name": "stderr",
          "output_type": "stream",
          "text": [
            "/data/sandcastle/boxes/fbsource/buck-out/v2/gen/fbcode/f3b9a99e517e0a13/bento/kernels/__bento_kernel_axoptics__/bento_kernel_axoptics#link-tree/gpytorch/likelihoods/noise_models.py:144: NumericalWarning:\n",
            "\n",
            "Very small noise values detected. This will likely lead to numerical instabilities. Rounding small noise values up to 1e-06.\n",
            "\n",
            "/data/sandcastle/boxes/fbsource/buck-out/v2/gen/fbcode/f3b9a99e517e0a13/bento/kernels/__bento_kernel_axoptics__/bento_kernel_axoptics#link-tree/linear_operator/utils/cholesky.py:40: NumericalWarning:\n",
            "\n",
            "A not p.d., added jitter of 1.0e-08 to the diagonal\n",
            "\n"
          ]
        },
        {
          "name": "stdout",
          "output_type": "stream",
          "text": [
            "Starting iteration 3, time: 29.630997896194458, current MVaR HV: 87.148383606772.\n"
          ]
        },
        {
          "name": "stderr",
          "output_type": "stream",
          "text": [
            "/data/sandcastle/boxes/fbsource/buck-out/v2/gen/fbcode/f3b9a99e517e0a13/bento/kernels/__bento_kernel_axoptics__/bento_kernel_axoptics#link-tree/gpytorch/likelihoods/noise_models.py:144: NumericalWarning:\n",
            "\n",
            "Very small noise values detected. This will likely lead to numerical instabilities. Rounding small noise values up to 1e-06.\n",
            "\n"
          ]
        },
        {
          "name": "stderr",
          "output_type": "stream",
          "text": [
            "/data/sandcastle/boxes/fbsource/buck-out/v2/gen/fbcode/f3b9a99e517e0a13/bento/kernels/__bento_kernel_axoptics__/bento_kernel_axoptics#link-tree/linear_operator/utils/cholesky.py:40: NumericalWarning:\n",
            "\n",
            "A not p.d., added jitter of 1.0e-08 to the diagonal\n",
            "\n"
          ]
        },
        {
          "name": "stderr",
          "output_type": "stream",
          "text": [
            "/data/sandcastle/boxes/fbsource/buck-out/v2/gen/fbcode/f3b9a99e517e0a13/bento/kernels/__bento_kernel_axoptics__/bento_kernel_axoptics#link-tree/botorch/optim/optimize.py:306: RuntimeWarning:\n",
            "\n",
            "Optimization failed in `gen_candidates_scipy` with the following warning(s):\n",
            "[NumericalWarning('A not p.d., added jitter of 1.0e-08 to the diagonal'), OptimizationWarning('Optimization failed within `scipy.optimize.minimize` with status 2.'), NumericalWarning('A not p.d., added jitter of 1.0e-08 to the diagonal'), NumericalWarning('A not p.d., added jitter of 1.0e-08 to the diagonal'), OptimizationWarning('Optimization failed within `scipy.optimize.minimize` with status 2.'), NumericalWarning('A not p.d., added jitter of 1.0e-08 to the diagonal'), NumericalWarning('A not p.d., added jitter of 1.0e-08 to the diagonal'), OptimizationWarning('Optimization failed within `scipy.optimize.minimize` with status 2.'), NumericalWarning('A not p.d., added jitter of 1.0e-08 to the diagonal'), NumericalWarning('A not p.d., added jitter of 1.0e-08 to the diagonal'), OptimizationWarning('Optimization failed within `scipy.optimize.minimize` with status 2.'), NumericalWarning('A not p.d., added jitter of 1.0e-08 to the diagonal')]\n",
            "Trying again with a new set of initial conditions.\n",
            "\n"
          ]
        },
        {
          "name": "stderr",
          "output_type": "stream",
          "text": [
            "/data/sandcastle/boxes/fbsource/buck-out/v2/gen/fbcode/f3b9a99e517e0a13/bento/kernels/__bento_kernel_axoptics__/bento_kernel_axoptics#link-tree/botorch/optim/optimize.py:328: RuntimeWarning:\n",
            "\n",
            "Optimization failed on the second try, after generating a new set of initial conditions.\n",
            "\n"
          ]
        },
        {
          "name": "stdout",
          "output_type": "stream",
          "text": [
            "Starting iteration 4, time: 43.48030400276184, current MVaR HV: 89.14242777378423.\n"
          ]
        },
        {
          "name": "stderr",
          "output_type": "stream",
          "text": [
            "/data/sandcastle/boxes/fbsource/buck-out/v2/gen/fbcode/f3b9a99e517e0a13/bento/kernels/__bento_kernel_axoptics__/bento_kernel_axoptics#link-tree/gpytorch/likelihoods/noise_models.py:144: NumericalWarning:\n",
            "\n",
            "Very small noise values detected. This will likely lead to numerical instabilities. Rounding small noise values up to 1e-06.\n",
            "\n"
          ]
        },
        {
          "name": "stderr",
          "output_type": "stream",
          "text": [
            "/data/sandcastle/boxes/fbsource/buck-out/v2/gen/fbcode/f3b9a99e517e0a13/bento/kernels/__bento_kernel_axoptics__/bento_kernel_axoptics#link-tree/linear_operator/utils/cholesky.py:40: NumericalWarning:\n",
            "\n",
            "A not p.d., added jitter of 1.0e-08 to the diagonal\n",
            "\n"
          ]
        },
        {
          "name": "stderr",
          "output_type": "stream",
          "text": [
            "/data/sandcastle/boxes/fbsource/buck-out/v2/gen/fbcode/f3b9a99e517e0a13/bento/kernels/__bento_kernel_axoptics__/bento_kernel_axoptics#link-tree/botorch/optim/optimize.py:306: RuntimeWarning:\n",
            "\n",
            "Optimization failed in `gen_candidates_scipy` with the following warning(s):\n",
            "[NumericalWarning('A not p.d., added jitter of 1.0e-08 to the diagonal'), NumericalWarning('A not p.d., added jitter of 1.0e-08 to the diagonal'), OptimizationWarning('Optimization failed within `scipy.optimize.minimize` with status 2.'), NumericalWarning('A not p.d., added jitter of 1.0e-08 to the diagonal'), NumericalWarning('A not p.d., added jitter of 1.0e-08 to the diagonal'), OptimizationWarning('Optimization failed within `scipy.optimize.minimize` with status 2.'), NumericalWarning('A not p.d., added jitter of 1.0e-08 to the diagonal'), NumericalWarning('A not p.d., added jitter of 1.0e-08 to the diagonal')]\n",
            "Trying again with a new set of initial conditions.\n",
            "\n"
          ]
        },
        {
          "name": "stderr",
          "output_type": "stream",
          "text": [
            "/data/sandcastle/boxes/fbsource/buck-out/v2/gen/fbcode/f3b9a99e517e0a13/bento/kernels/__bento_kernel_axoptics__/bento_kernel_axoptics#link-tree/botorch/optim/optimize.py:328: RuntimeWarning:\n",
            "\n",
            "Optimization failed on the second try, after generating a new set of initial conditions.\n",
            "\n"
          ]
        }
      ],
      "source": [
        "import gc\n",
        "import gpytorch.settings as gpt_settings\n",
        "from time import time\n",
        "from botorch.fit import fit_gpytorch_mll\n",
        "from botorch.sampling.normal import SobolQMCNormalSampler\n",
        "from botorch.optim.optimize import optimize_acqf\n",
        "\n",
        "start = time()\n",
        "for i in range(iterations):\n",
        "    if verbose:\n",
        "        print(\n",
        "            f\"Starting iteration {i}, \"\n",
        "            f\"time: {time()-start}, current MVaR HV: {all_mvar_hvs[-1]}.\"\n",
        "        )\n",
        "\n",
        "    # Generate the perturbations for evaluation\n",
        "    perturbation_set = (\n",
        "        draw_sobol_normal_samples(d=base_function.dim, n=n_w, **tkwargs)\n",
        "        * scaled_std_dev\n",
        "    )\n",
        "    # Fit the model.\n",
        "    mll, model = initialize_model(\n",
        "        train_x=X, train_y=Y, perturbation_set=perturbation_set\n",
        "    )\n",
        "    fit_gpytorch_mll(mll)\n",
        "\n",
        "    with gpt_settings.cholesky_max_tries(6):\n",
        "        # Construct the acqf.\n",
        "        sampler = SobolQMCNormalSampler(sample_shape=torch.Size([mc_samples]))\n",
        "        acq_func = get_MARS_NEI(\n",
        "            model=model,\n",
        "            n_w=n_w,\n",
        "            X_baseline=X,\n",
        "            sampler=sampler,\n",
        "            mvar_ref_point=mvar_ref_point,\n",
        "        )\n",
        "\n",
        "        # Optimize the acqf.\n",
        "        while options[\"batch_limit\"] >= 1:\n",
        "            # Try to get around OOM by reducing batch_limit.\n",
        "            try:\n",
        "                torch.cuda.empty_cache()\n",
        "                candidates, _ = optimize_acqf(\n",
        "                    acq_function=acq_func,\n",
        "                    bounds=standard_bounds,\n",
        "                    q=1,\n",
        "                    **optimization_kwargs,\n",
        "                )\n",
        "                torch.cuda.empty_cache()\n",
        "                break\n",
        "            except RuntimeError as e:\n",
        "                if options[\"batch_limit\"] > 1:\n",
        "                    print(\n",
        "                        \"Got a RuntimeError in `optimize_acqf`. \"\n",
        "                        \"Trying with reduced `batch_limit`.\"\n",
        "                    )\n",
        "                    options[\"batch_limit\"] //= 2\n",
        "                    continue\n",
        "                else:\n",
        "                    raise e\n",
        "    # free memory\n",
        "    del acq_func, mll, model\n",
        "    gc.collect()\n",
        "    torch.cuda.empty_cache()\n",
        "\n",
        "    # Get the new observations and update the data.\n",
        "    new_y = eval_problem(candidates)\n",
        "    X = torch.cat([X, candidates], dim=0)\n",
        "    Y = torch.cat([Y, new_y], dim=0)\n",
        "    new_mvar_hv = mvar_hv(candidates)\n",
        "    all_mvar_hvs = torch.cat(\n",
        "        [all_mvar_hvs, torch.tensor([new_mvar_hv], dtype=tkwargs[\"dtype\"])], dim=0\n",
        "    )"
      ]
    },
    {
      "cell_type": "markdown",
      "metadata": {
        "originalKey": "97ef61bc-04a8-4d19-81ca-089b53eea058",
        "showInput": false
      },
      "source": [
        "## Evaluate Results"
      ]
    },
    {
      "cell_type": "markdown",
      "metadata": {
        "originalKey": "301bb536-78e9-4c8e-9b44-2b66d93184b4",
        "showInput": false
      },
      "source": [
        "First we evaluate the hypervolume dominated by the MvaR frontier and bounded from below by the reference point. A larger hypervolume means a better MVaR frontier."
      ]
    },
    {
      "cell_type": "code",
      "execution_count": 12,
      "metadata": {
        "collapsed": false,
        "customOutput": null,
        "executionStartTime": 1668650247048,
        "executionStopTime": 1668650247485,
        "originalKey": "68905db7-f9cd-4e43-8705-2f9650d782bc",
        "requestMsgId": "1ea755d5-be5f-447f-8c61-2477c569fc86"
      },
      "outputs": [
        {
          "data": {
            "text/plain": [
              "Text(0.5, 0, 'BO Iterations')"
            ]
          },
          "execution_count": 12,
          "metadata": {
            "bento_obj_id": "139793369851552"
          },
          "output_type": "execute_result"
        },
        {
          "data": {
            "image/png": "[encoded data removed]",
            "text/plain": [
              "<Figure size 432x288 with 1 Axes>"
            ]
          },
          "metadata": {
            "bento_obj_id": "139793427799920",
            "needs_background": "light"
          },
          "output_type": "display_data"
        }
      ],
      "source": [
        "import matplotlib.pyplot as plt\n",
        "\n",
        "%matplotlib inline\n",
        "plt.plot(torch.arange(all_mvar_hvs.shape[0]), all_mvar_hvs)\n",
        "plt.ylabel(\"MVaR HV\")\n",
        "plt.xlabel(\"BO Iterations\")"
      ]
    },
    {
      "cell_type": "markdown",
      "metadata": {
        "originalKey": "be6d2097-0494-4c32-b01b-2f64ddc5a2ad",
        "showInput": false
      },
      "source": [
        "Next, we plot the mvar frontier to see the possible probabilistic lower bounds. For each point $\\mathbf z$ in the MVaR set, there is a previously evaluated design that will be at least as good as $\\mathbf z$ with probability $\\alpha$."
      ]
    },
    {
      "cell_type": "code",
      "execution_count": 15,
      "metadata": {
        "collapsed": false,
        "customOutput": null,
        "executionStartTime": 1668650370360,
        "executionStopTime": 1668650370435,
        "originalKey": "0b80468d-c17d-4817-935f-b7d6320a6aab",
        "requestMsgId": "7f6c4f92-64b3-4f50-9dd7-02e2e63986be"
      },
      "outputs": [],
      "source": [
        "from botorch.utils.multi_objective.pareto import is_non_dominated\n",
        "\n",
        "# Evaluate true MVaR\n",
        "# Perturb X\n",
        "perturbed_X = mvar_hv.perturbation(X)\n",
        "# Compute objectives at perturbed points\n",
        "true_Y_under_noise = eval_problem(perturbed_X)\n",
        "# calculate the MVaR frontier for each point X\n",
        "mvar_points = mvar_hv.mvar(true_Y_under_noise)\n",
        "# calculate the pareto frontier over the union of individual MVaR frontiers for each design\n",
        "mvar_frontier = mvar_points[is_non_dominated(mvar_points)].cpu()"
      ]
    },
    {
      "cell_type": "code",
      "execution_count": 16,
      "metadata": {
        "collapsed": false,
        "customOutput": null,
        "executionStartTime": 1668650373160,
        "executionStopTime": 1668650373294,
        "originalKey": "45ac2c9a-1d19-4a17-838f-73d3acb6d5f3",
        "requestMsgId": "81c30d71-221b-4c88-aaf5-9c8ba128465b"
      },
      "outputs": [
        {
          "data": {
            "text/plain": [
              "<matplotlib.legend.Legend at 0x7f242df55a30>"
            ]
          },
          "execution_count": 16,
          "metadata": {
            "bento_obj_id": "139793366604336"
          },
          "output_type": "execute_result"
        },
        {
          "data": {
            "image/png": "[encoded data removed]",
            "text/plain": [
              "<Figure size 432x288 with 1 Axes>"
            ]
          },
          "metadata": {
            "bento_obj_id": "139793366602320",
            "needs_background": "light"
          },
          "output_type": "display_data"
        }
      ],
      "source": [
        "plt.plot(\n",
        "    mvar_frontier[:, 0], mvar_frontier[:, 1], \".\", alpha=0.4, label=\"MVaR Frontier\"\n",
        ")\n",
        "plt.xlabel(\"Objective 1\")\n",
        "plt.ylabel(\"Objective 2\")\n",
        "plt.legend()"
      ]
    },
    {
      "cell_type": "markdown",
      "metadata": {
        "originalKey": "20a6fa62-d448-4a5f-b32e-0826e336e27c"
      },
      "source": [
        "Finally, we can plot the MVaR frontier for each evaluated design. Clearly some designs are far more robust than others under input noise."
      ]
    },
    {
      "cell_type": "code",
      "execution_count": 18,
      "metadata": {
        "collapsed": false,
        "customOutput": null,
        "executionStartTime": 1668650388086,
        "executionStopTime": 1668650388283,
        "originalKey": "3839b063-33c9-456b-a66a-e9b5f5084369",
        "requestMsgId": "b35cd8e9-efc6-44c1-981e-e595086a4790"
      },
      "outputs": [
        {
          "data": {
            "text/plain": [
              "<matplotlib.legend.Legend at 0x7f242df52580>"
            ]
          },
          "execution_count": 18,
          "metadata": {
            "bento_obj_id": "139793366590848"
          },
          "output_type": "execute_result"
        },
        {
          "data": {
            "image/png": "[encoded data removed]",
            "text/plain": [
              "<Figure size 432x288 with 1 Axes>"
            ]
          },
          "metadata": {
            "bento_obj_id": "139793366591424",
            "needs_background": "light"
          },
          "output_type": "display_data"
        }
      ],
      "source": [
        "for i, y in enumerate(true_Y_under_noise.view(X.shape[0], hv_n_w, -1).cpu()):\n",
        "    plt.plot(y[:, 0], y[:, 1], \".\", color=f\"C{i}\", label=f\"x_{i}\", alpha=0.3)\n",
        "plt.xlabel(\"Objective 1\")\n",
        "plt.ylabel(\"Objective 2\")\n",
        "plt.legend()"
      ]
    },
    {
      "cell_type": "code",
      "execution_count": null,
      "metadata": {
        "customOutput": null,
        "originalKey": "9a6504ac-11dc-4690-a8c7-bfd6c3cefc85"
      },
      "outputs": [],
      "source": []
    }
  ],
  "metadata": {
    "kernelspec": {
      "display_name": "python3",
      "language": "python",
      "name": "python3"
    }
  },
  "nbformat": 4,
  "nbformat_minor": 2
}
